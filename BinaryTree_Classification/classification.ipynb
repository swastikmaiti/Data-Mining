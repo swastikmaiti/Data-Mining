{
 "cells": [
  {
   "cell_type": "code",
   "execution_count": 1,
   "id": "a7c8fb11",
   "metadata": {},
   "outputs": [],
   "source": [
    "import pandas as pd\n",
    "import numpy as np\n",
    "import collections\n",
    "from collections import Counter\n",
    "from collections import OrderedDict\n",
    "import csv"
   ]
  },
  {
   "cell_type": "code",
   "execution_count": 30,
   "id": "ed617a00",
   "metadata": {},
   "outputs": [
    {
     "name": "stdout",
     "output_type": "stream",
     "text": [
      "test_data =  -f\n"
     ]
    }
   ],
   "source": [
    "import sys\n",
    "file_name = sys.argv[1]+\".csv\"\n",
    "print(\"Input file name = \",file_name)\n",
    "test_data = pd.read_csv(file_name,header=None)"
   ]
  },
  {
   "cell_type": "code",
   "execution_count": 3,
   "id": "6e8c3d89",
   "metadata": {},
   "outputs": [],
   "source": [
    "data = pd.read_csv(\"training-s118.csv\",header=None)"
   ]
  },
  {
   "cell_type": "code",
   "execution_count": 4,
   "id": "22b34a34",
   "metadata": {},
   "outputs": [
    {
     "data": {
      "text/html": [
       "<div>\n",
       "<style scoped>\n",
       "    .dataframe tbody tr th:only-of-type {\n",
       "        vertical-align: middle;\n",
       "    }\n",
       "\n",
       "    .dataframe tbody tr th {\n",
       "        vertical-align: top;\n",
       "    }\n",
       "\n",
       "    .dataframe thead th {\n",
       "        text-align: right;\n",
       "    }\n",
       "</style>\n",
       "<table border=\"1\" class=\"dataframe\">\n",
       "  <thead>\n",
       "    <tr style=\"text-align: right;\">\n",
       "      <th></th>\n",
       "      <th>0</th>\n",
       "      <th>1</th>\n",
       "      <th>2</th>\n",
       "      <th>3</th>\n",
       "      <th>4</th>\n",
       "      <th>5</th>\n",
       "      <th>6</th>\n",
       "      <th>7</th>\n",
       "      <th>8</th>\n",
       "      <th>9</th>\n",
       "      <th>10</th>\n",
       "    </tr>\n",
       "  </thead>\n",
       "  <tbody>\n",
       "    <tr>\n",
       "      <th>0</th>\n",
       "      <td>C3</td>\n",
       "      <td>34</td>\n",
       "      <td>20</td>\n",
       "      <td>14.463463</td>\n",
       "      <td>8.753004</td>\n",
       "      <td>-143.048132</td>\n",
       "      <td>32.48045</td>\n",
       "      <td>10.0</td>\n",
       "      <td>0.0</td>\n",
       "      <td>9</td>\n",
       "      <td>81.981331</td>\n",
       "    </tr>\n",
       "    <tr>\n",
       "      <th>1</th>\n",
       "      <td>C3</td>\n",
       "      <td>34</td>\n",
       "      <td>25</td>\n",
       "      <td>13.383463</td>\n",
       "      <td>4.753004</td>\n",
       "      <td>-156.671764</td>\n",
       "      <td>42.98045</td>\n",
       "      <td>6.0</td>\n",
       "      <td>0.0</td>\n",
       "      <td>8</td>\n",
       "      <td>99.481331</td>\n",
       "    </tr>\n",
       "    <tr>\n",
       "      <th>2</th>\n",
       "      <td>C4</td>\n",
       "      <td>31</td>\n",
       "      <td>19</td>\n",
       "      <td>15.263463</td>\n",
       "      <td>3.753004</td>\n",
       "      <td>-122.612685</td>\n",
       "      <td>17.48045</td>\n",
       "      <td>8.0</td>\n",
       "      <td>2.0</td>\n",
       "      <td>4</td>\n",
       "      <td>71.481331</td>\n",
       "    </tr>\n",
       "    <tr>\n",
       "      <th>3</th>\n",
       "      <td>C4</td>\n",
       "      <td>33</td>\n",
       "      <td>19</td>\n",
       "      <td>13.233463</td>\n",
       "      <td>-2.746996</td>\n",
       "      <td>-98.771329</td>\n",
       "      <td>14.48045</td>\n",
       "      <td>4.0</td>\n",
       "      <td>9.0</td>\n",
       "      <td>9</td>\n",
       "      <td>55.981331</td>\n",
       "    </tr>\n",
       "    <tr>\n",
       "      <th>4</th>\n",
       "      <td>C3</td>\n",
       "      <td>31</td>\n",
       "      <td>23</td>\n",
       "      <td>15.653463</td>\n",
       "      <td>8.003004</td>\n",
       "      <td>-156.671764</td>\n",
       "      <td>37.48045</td>\n",
       "      <td>6.0</td>\n",
       "      <td>1.0</td>\n",
       "      <td>7</td>\n",
       "      <td>93.981331</td>\n",
       "    </tr>\n",
       "    <tr>\n",
       "      <th>...</th>\n",
       "      <td>...</td>\n",
       "      <td>...</td>\n",
       "      <td>...</td>\n",
       "      <td>...</td>\n",
       "      <td>...</td>\n",
       "      <td>...</td>\n",
       "      <td>...</td>\n",
       "      <td>...</td>\n",
       "      <td>...</td>\n",
       "      <td>...</td>\n",
       "      <td>...</td>\n",
       "    </tr>\n",
       "    <tr>\n",
       "      <th>406</th>\n",
       "      <td>C5</td>\n",
       "      <td>37</td>\n",
       "      <td>22</td>\n",
       "      <td>12.043463</td>\n",
       "      <td>3.253004</td>\n",
       "      <td>-57.900434</td>\n",
       "      <td>22.48045</td>\n",
       "      <td>1.0</td>\n",
       "      <td>5.0</td>\n",
       "      <td>9</td>\n",
       "      <td>42.481331</td>\n",
       "    </tr>\n",
       "    <tr>\n",
       "      <th>407</th>\n",
       "      <td>C3</td>\n",
       "      <td>36</td>\n",
       "      <td>13</td>\n",
       "      <td>14.583463</td>\n",
       "      <td>11.003004</td>\n",
       "      <td>-124.315639</td>\n",
       "      <td>35.48045</td>\n",
       "      <td>4.0</td>\n",
       "      <td>4.0</td>\n",
       "      <td>9</td>\n",
       "      <td>96.981331</td>\n",
       "    </tr>\n",
       "    <tr>\n",
       "      <th>408</th>\n",
       "      <td>C3</td>\n",
       "      <td>34</td>\n",
       "      <td>11</td>\n",
       "      <td>15.753463</td>\n",
       "      <td>5.253004</td>\n",
       "      <td>-126.018593</td>\n",
       "      <td>38.48045</td>\n",
       "      <td>10.0</td>\n",
       "      <td>0.0</td>\n",
       "      <td>8</td>\n",
       "      <td>109.981331</td>\n",
       "    </tr>\n",
       "    <tr>\n",
       "      <th>409</th>\n",
       "      <td>C2</td>\n",
       "      <td>36</td>\n",
       "      <td>18</td>\n",
       "      <td>15.583463</td>\n",
       "      <td>8.503004</td>\n",
       "      <td>-143.048132</td>\n",
       "      <td>38.48045</td>\n",
       "      <td>10.0</td>\n",
       "      <td>10.0</td>\n",
       "      <td>9</td>\n",
       "      <td>125.481331</td>\n",
       "    </tr>\n",
       "    <tr>\n",
       "      <th>410</th>\n",
       "      <td>C2</td>\n",
       "      <td>31</td>\n",
       "      <td>12</td>\n",
       "      <td>15.493463</td>\n",
       "      <td>12.003004</td>\n",
       "      <td>-143.048132</td>\n",
       "      <td>39.48045</td>\n",
       "      <td>7.0</td>\n",
       "      <td>0.0</td>\n",
       "      <td>0</td>\n",
       "      <td>119.981331</td>\n",
       "    </tr>\n",
       "  </tbody>\n",
       "</table>\n",
       "<p>411 rows × 11 columns</p>\n",
       "</div>"
      ],
      "text/plain": [
       "     0   1   2          3          4           5         6     7     8   9   \\\n",
       "0    C3  34  20  14.463463   8.753004 -143.048132  32.48045  10.0   0.0   9   \n",
       "1    C3  34  25  13.383463   4.753004 -156.671764  42.98045   6.0   0.0   8   \n",
       "2    C4  31  19  15.263463   3.753004 -122.612685  17.48045   8.0   2.0   4   \n",
       "3    C4  33  19  13.233463  -2.746996  -98.771329  14.48045   4.0   9.0   9   \n",
       "4    C3  31  23  15.653463   8.003004 -156.671764  37.48045   6.0   1.0   7   \n",
       "..   ..  ..  ..        ...        ...         ...       ...   ...   ...  ..   \n",
       "406  C5  37  22  12.043463   3.253004  -57.900434  22.48045   1.0   5.0   9   \n",
       "407  C3  36  13  14.583463  11.003004 -124.315639  35.48045   4.0   4.0   9   \n",
       "408  C3  34  11  15.753463   5.253004 -126.018593  38.48045  10.0   0.0   8   \n",
       "409  C2  36  18  15.583463   8.503004 -143.048132  38.48045  10.0  10.0   9   \n",
       "410  C2  31  12  15.493463  12.003004 -143.048132  39.48045   7.0   0.0   0   \n",
       "\n",
       "             10  \n",
       "0     81.981331  \n",
       "1     99.481331  \n",
       "2     71.481331  \n",
       "3     55.981331  \n",
       "4     93.981331  \n",
       "..          ...  \n",
       "406   42.481331  \n",
       "407   96.981331  \n",
       "408  109.981331  \n",
       "409  125.481331  \n",
       "410  119.981331  \n",
       "\n",
       "[411 rows x 11 columns]"
      ]
     },
     "execution_count": 4,
     "metadata": {},
     "output_type": "execute_result"
    }
   ],
   "source": [
    "data"
   ]
  },
  {
   "cell_type": "code",
   "execution_count": 5,
   "id": "dafd0164",
   "metadata": {},
   "outputs": [],
   "source": [
    "number_of_class = len(pd.unique(data[0]))"
   ]
  },
  {
   "cell_type": "code",
   "execution_count": 6,
   "id": "4874d20e",
   "metadata": {},
   "outputs": [],
   "source": [
    "classes = list(pd.unique(data[0]))\n",
    "classes.sort()"
   ]
  },
  {
   "cell_type": "code",
   "execution_count": null,
   "id": "df30634f",
   "metadata": {},
   "outputs": [],
   "source": []
  },
  {
   "cell_type": "code",
   "execution_count": 7,
   "id": "f0f1d393",
   "metadata": {},
   "outputs": [],
   "source": [
    "X_train = np.array(data.iloc[: , 1:])"
   ]
  },
  {
   "cell_type": "code",
   "execution_count": 8,
   "id": "26f93b65",
   "metadata": {},
   "outputs": [],
   "source": [
    "Y_train = np.array(data.iloc[:,0])"
   ]
  },
  {
   "cell_type": "markdown",
   "id": "a1332afc",
   "metadata": {},
   "source": [
    "### Decision Tree Structure(Monothetic Tree,Information Gain as Mesure)"
   ]
  },
  {
   "cell_type": "code",
   "execution_count": 9,
   "id": "90907c05",
   "metadata": {},
   "outputs": [],
   "source": [
    "class Node:\n",
    "    def __init__(self,depth = 0,stump=(0,0),parent = None):\n",
    "        self.depth = depth;\n",
    "        self.parent = parent;\n",
    "        self.stump = stump;\n",
    "        self.left = None;\n",
    "        self.right = None;\n",
    "        self.isLeaf = True;\n",
    "        self.label = 0;\n",
    "        self.T = None;\n",
    "    \n",
    "    def predict(self,data):\n",
    "        if self.isLeaf:\n",
    "            for item in classes:\n",
    "                if self.label==item:\n",
    "                    return item\n",
    "        else:\n",
    "            if data[self.stump[0]]>self.stump[1]:\n",
    "                return self.right.predict(data)\n",
    "            else:\n",
    "                return self.left.predict(data)\n",
    "    def getEntropy(self, frequency_list):\n",
    "        entropy = 0\n",
    "        total = sum(frequency_list)\n",
    "        proportion_list = [number/total for number in frequency_list]\n",
    "        for i in range(len(proportion_list)):\n",
    "            p = proportion_list[i]\n",
    "            if p>0:\n",
    "                entropy = entropy - p*np.log(p)\n",
    "            else:\n",
    "                entropy = entropy - 0\n",
    "                \n",
    "        return entropy;\n",
    "    \n",
    "    def getStump(self, X, y):\n",
    "        \n",
    "        class_frequency = dict(collections.Counter(y))\n",
    "        class_frequency = dict(OrderedDict(sorted(class_frequency.items())))\n",
    "\n",
    "        n = y.size;\n",
    "        bestObjective = float(\"-inf\");\n",
    "        \n",
    "        for i in range(X.shape[1]):\n",
    "            if self.parent is not None and i == self.parent.stump[0]:\n",
    "                continue;\n",
    "            candidateThresholds = np.sort(X[:,i]);\n",
    "            idx = np.argsort(X[:, i]);\n",
    "            for j in range(1,candidateThresholds.size-1):\n",
    "                S1 = y[idx[:j]];\n",
    "                S2 = y[idx[j:]];\n",
    "                \n",
    "                S1_class_frequency = dict(collections.Counter(S1))\n",
    "                S1_class_frequency = dict(OrderedDict(sorted(S1_class_frequency.items())))\n",
    "                \n",
    "                S2_class_frequency = dict(collections.Counter(S2))\n",
    "                S2_class_frequency = dict(OrderedDict(sorted(S2_class_frequency.items())))\n",
    "                \n",
    "                info = (S1.size/n)*self.getEntropy(list(S1_class_frequency.values()))+(S2.size/n)*self.getEntropy(list(S2_class_frequency.values()))\n",
    "                \n",
    "                candidateObjective = self.getEntropy(list(class_frequency.values()))-info;\n",
    "                \n",
    "                if candidateObjective>bestObjective:\n",
    "                    bestObjective = candidateObjective\n",
    "                    bestFeat = i\n",
    "                    bestThresh = candidateThresholds[j]\n",
    "\n",
    "        return (bestFeat, bestThresh)\n",
    "    \n",
    "    def train(self, X ,y ,maxLeafSize, maxDepth):\n",
    "        class_frequency = dict(collections.Counter(y))\n",
    "        class_frequency = dict(OrderedDict(sorted(class_frequency.items())))\n",
    "        total_count = sum(class_frequency.values())\n",
    "        assign_class = None\n",
    "        status = 0\n",
    "        for items in class_frequency.items():\n",
    "            key = items[0]\n",
    "            value = items[1]\n",
    "            if value/total_count>0.8:  ### 80 percent Node purity is the pruning criteria\n",
    "                assign_class = key\n",
    "                status = 1\n",
    "            \n",
    "        \n",
    "        if y.size<maxLeafSize or self.depth>=maxDepth or status==1:  ### Node size and Depth is also used as prining criteria\n",
    "            \n",
    "            if status==0:\n",
    "                assign_class = max(class_frequency, key=class_frequency.get)\n",
    "            \n",
    "            self.isLeaf = True\n",
    "            self.label = assign_class;\n",
    "        else:\n",
    "            self.isLeaf = False\n",
    "            self.stump = self.getStump(X,y);\n",
    "            self.left = Node(depth = self.depth+1,parent = self)\n",
    "            self.right = Node(depth = self.depth+1,parent = self)\n",
    "            discriminant = X[:, self.stump[0]] - self.stump[1]\n",
    "            self.left.train( X[discriminant <= 0, :], y[discriminant <= 0], maxLeafSize, maxDepth )\n",
    "            self.right.train( X[discriminant > 0, :], y[discriminant > 0], maxLeafSize, maxDepth )\n"
   ]
  },
  {
   "cell_type": "markdown",
   "id": "df50dd57",
   "metadata": {},
   "source": [
    "### Define Tree"
   ]
  },
  {
   "cell_type": "code",
   "execution_count": 10,
   "id": "c1edf8af",
   "metadata": {},
   "outputs": [],
   "source": [
    "class Tree:\n",
    "    def __init__( self, maxLeafSize = 0, maxDepth = 0 ):\n",
    "        self.root = Node()\n",
    "        self.maxLeafSize = maxLeafSize\n",
    "        self.maxDepth = maxDepth \n",
    "        \n",
    "    def predict( self, data ):\n",
    "        return self.root.predict( np.array(data) )\n",
    "    \n",
    "    def train( self, X, y ):\n",
    "        self.root.train( X, y, self.maxLeafSize, self.maxDepth )"
   ]
  },
  {
   "cell_type": "code",
   "execution_count": 11,
   "id": "533b649b",
   "metadata": {},
   "outputs": [],
   "source": [
    "DT = Tree(maxLeafSize = 10, maxDepth = 20)"
   ]
  },
  {
   "cell_type": "code",
   "execution_count": null,
   "id": "7f17feb2",
   "metadata": {},
   "outputs": [],
   "source": []
  },
  {
   "cell_type": "code",
   "execution_count": 12,
   "id": "9976a647",
   "metadata": {},
   "outputs": [],
   "source": [
    "DT.train( X_train, Y_train )"
   ]
  },
  {
   "cell_type": "code",
   "execution_count": 13,
   "id": "49f649e1",
   "metadata": {},
   "outputs": [],
   "source": [
    "def predictBatch(Data):\n",
    "    prediction = [];\n",
    "    for i in range(Data.shape[0]):\n",
    "        x  = Data[i,:]\n",
    "        y_hat = DT.predict(x);\n",
    "        prediction.append(y_hat);\n",
    "    return prediction"
   ]
  },
  {
   "cell_type": "code",
   "execution_count": 14,
   "id": "5d1c57fb",
   "metadata": {},
   "outputs": [],
   "source": [
    "def accuracy(X_test,y_test):\n",
    "    y_predict = predictBatch(X_test);\n",
    "    y_predict = np.array(y_predict);\n",
    "    y_test = np.array(y_test);\n",
    "    z = y_predict==y_test\n",
    "    count = np.sum(z)\n",
    "    accu = count/y_test.shape[0]\n",
    "    return accu"
   ]
  },
  {
   "cell_type": "code",
   "execution_count": 15,
   "id": "0f8fb768",
   "metadata": {},
   "outputs": [
    {
     "name": "stdout",
     "output_type": "stream",
     "text": [
      "Train accuracy =  0.851581508515815\n"
     ]
    }
   ],
   "source": [
    "print(\"Train accuracy = \",accuracy(X_train,Y_train))"
   ]
  },
  {
   "cell_type": "markdown",
   "id": "a5894a46",
   "metadata": {},
   "source": [
    "### Code for Test Data"
   ]
  },
  {
   "cell_type": "code",
   "execution_count": 25,
   "id": "e7960dd5",
   "metadata": {},
   "outputs": [],
   "source": [
    "X_test = np.array(test_data.iloc[: , 1:])"
   ]
  },
  {
   "cell_type": "code",
   "execution_count": 26,
   "id": "f1c2a343",
   "metadata": {},
   "outputs": [],
   "source": [
    "z = predictBatch(X_test)"
   ]
  },
  {
   "cell_type": "code",
   "execution_count": 27,
   "id": "8e3d1ed9",
   "metadata": {},
   "outputs": [],
   "source": [
    "textfile = open(\"classifier-s118.txt\", \"w\")\n",
    "for element in z:\n",
    "    textfile.write(element + \"\\n\")\n",
    "textfile.close()"
   ]
  },
  {
   "cell_type": "code",
   "execution_count": 29,
   "id": "2ee71172",
   "metadata": {},
   "outputs": [],
   "source": [
    "a_file = open(\"classifier-s118.csv\", \"w\",newline=\"\")\n",
    "writer = csv.writer(a_file)\n",
    "for value in z:\n",
    "    writer.writerow([value])\n",
    "\n",
    "a_file.close()"
   ]
  },
  {
   "cell_type": "code",
   "execution_count": null,
   "id": "824467eb",
   "metadata": {},
   "outputs": [],
   "source": []
  },
  {
   "cell_type": "code",
   "execution_count": null,
   "id": "bfe52fcf",
   "metadata": {},
   "outputs": [],
   "source": []
  }
 ],
 "metadata": {
  "kernelspec": {
   "display_name": "Python 3",
   "language": "python",
   "name": "python3"
  },
  "language_info": {
   "codemirror_mode": {
    "name": "ipython",
    "version": 3
   },
   "file_extension": ".py",
   "mimetype": "text/x-python",
   "name": "python",
   "nbconvert_exporter": "python",
   "pygments_lexer": "ipython3",
   "version": "3.8.8"
  }
 },
 "nbformat": 4,
 "nbformat_minor": 5
}

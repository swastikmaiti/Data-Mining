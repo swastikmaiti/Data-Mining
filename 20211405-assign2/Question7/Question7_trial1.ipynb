{
 "cells": [
  {
   "cell_type": "code",
   "execution_count": 1,
   "id": "f2432310",
   "metadata": {},
   "outputs": [],
   "source": [
    "import pandas as pd\n",
    "import requests\n",
    "import csv\n",
    "import json\n",
    "from collections import OrderedDict\n",
    "import os\n",
    "import glob\n",
    "from heapq import nlargest"
   ]
  },
  {
   "cell_type": "markdown",
   "id": "1437ce2f",
   "metadata": {},
   "source": [
    "### Collect dtaset for all the states"
   ]
  },
  {
   "cell_type": "code",
   "execution_count": 2,
   "id": "8e05a85f",
   "metadata": {},
   "outputs": [],
   "source": [
    "path = os.getcwd()\n",
    "xlsx_files = glob.glob(os.path.join(path, \"DDW-C17-*.XLSX\"))"
   ]
  },
  {
   "cell_type": "code",
   "execution_count": 3,
   "id": "a68bf8dc",
   "metadata": {},
   "outputs": [],
   "source": [
    "state_dict = dict()"
   ]
  },
  {
   "cell_type": "markdown",
   "id": "79624522",
   "metadata": {},
   "source": [
    "### Calculate Count of different Language in Each states"
   ]
  },
  {
   "cell_type": "code",
   "execution_count": 4,
   "id": "a0917378",
   "metadata": {},
   "outputs": [],
   "source": [
    "for f in xlsx_files:\n",
    "      \n",
    "    # read the csv file\n",
    "    df = pd.read_excel(f)\n",
    "      \n",
    "    file_name = f.split(\"\\\\\")[-1]\n",
    "    file_name = file_name.split(\".\")[0]\n",
    "    file_name = file_name+\".csv\"\n",
    "\n",
    "    df.to_csv (file_name,index = None,header=True)\n",
    "    \n",
    "    df = pd.DataFrame(pd.read_csv(file_name))\n",
    "    \n",
    "    language_data = df.loc[5:,:]\n",
    "    col = ['C-17 POPULATION BY BILINGUALISM AND TRILINGUALISM','Unnamed: 1','Unnamed: 3','Unnamed: 4','Unnamed: 8','Unnamed: 9','Unnamed: 13','Unnamed: 14']\n",
    "    language_data = language_data[col]\n",
    "    \n",
    "    language_data= language_data.set_axis(['State_Code','State_name','Mother_Tongue','Mother_Tongue_Person','Second_Lang','Second_Lang_Person','Third_Lang','Third_Lang_Person'], axis=1, inplace=False)\n",
    "    language_data = language_data.fillna(0)\n",
    "    language_data[\"Mother_Tongue_Person\"] = pd.to_numeric(language_data[\"Mother_Tongue_Person\"])\n",
    "    language_data[\"Second_Lang_Person\"] = pd.to_numeric(language_data[\"Second_Lang_Person\"])\n",
    "    language_data[\"Third_Lang_Person\"] = pd.to_numeric(language_data[\"Third_Lang_Person\"])\n",
    "\n",
    "    df1 = language_data.groupby(['State_Code','State_name','Mother_Tongue','Second_Lang','Third_Lang']).sum()\n",
    "    \n",
    "    language_count_dict = dict()\n",
    "    \n",
    "    \n",
    "    for i in range(len(language_data)):\n",
    "        row = language_data.iloc[i]\n",
    "        State_name = row[1]\n",
    "        Mother_Tongue_Person = row[3]\n",
    "        Second_Lang_Person = row[5]\n",
    "        Third_Lang_Person = row[7]\n",
    "        lang = None\n",
    "        count = 0\n",
    "        if Mother_Tongue_Person!=0:\n",
    "            lang = row[2]\n",
    "            count = Mother_Tongue_Person\n",
    "        elif Second_Lang_Person!=0:\n",
    "            lang = row[4]\n",
    "            count = Second_Lang_Person\n",
    "        elif Third_Lang_Person!=0:\n",
    "            lang = row[6]\n",
    "            count = Third_Lang_Person\n",
    "        val = language_count_dict.get(lang,0)\n",
    "        new_val = val+count\n",
    "        language_count_dict[lang] = new_val\n",
    "    \n",
    "    state_dict[State_name] = language_count_dict\n",
    "    \n",
    "    #print(\"State = \",State_name)\n",
    "    #print(\"language_count_dict = \",language_count_dict)\n",
    "    #print(\"-------------------------------------------------------------------------------------------------------\")\n",
    "    #print(\"\")\n",
    "    #print(\"\")\n",
    "\n",
    "    "
   ]
  },
  {
   "cell_type": "code",
   "execution_count": 5,
   "id": "7242b1f8",
   "metadata": {},
   "outputs": [],
   "source": [
    "North = ['JAMMU & KASHMIR','HIMACHAL PRADESH','PUNJAB','CHANDIGARH','UTTARAKHAND','HARYANA','NCT OF DELHI']"
   ]
  },
  {
   "cell_type": "code",
   "execution_count": 6,
   "id": "46fe7649",
   "metadata": {},
   "outputs": [],
   "source": [
    "West = ['RAJASTHAN','GUJARAT','DAMAN & DIU','DADRA & NAGAR HAVELI','MAHARASHTRA','GOA']"
   ]
  },
  {
   "cell_type": "code",
   "execution_count": 7,
   "id": "fea66938",
   "metadata": {},
   "outputs": [],
   "source": [
    "Central = ['UTTAR PRADESH','CHHATTISGARH','MADHYA PRADESH']"
   ]
  },
  {
   "cell_type": "code",
   "execution_count": 8,
   "id": "81e1acb3",
   "metadata": {},
   "outputs": [],
   "source": [
    "East = ['BIHAR','WEST BENGAL','JHARKHAND','ODISHA']"
   ]
  },
  {
   "cell_type": "code",
   "execution_count": 9,
   "id": "bb937942",
   "metadata": {},
   "outputs": [],
   "source": [
    "South = ['ANDHRA PRADESH','KARNATAKA','LAKSHADWEEP','KERALA','TAMIL NADU','PUDUCHERRY']"
   ]
  },
  {
   "cell_type": "code",
   "execution_count": 10,
   "id": "f1a39705",
   "metadata": {},
   "outputs": [],
   "source": [
    "North_East = ['SIKKIM','ARUNACHAL PRADESH','NAGALAND','MANIPUR','MIZORAM','TRIPURA','MEGHALAYA','ASSAM','ANDAMAN & NICOBAR ISLANDS']"
   ]
  },
  {
   "cell_type": "code",
   "execution_count": 11,
   "id": "2d8cd3da",
   "metadata": {},
   "outputs": [],
   "source": [
    "Division_dict = {'North':['JAMMU & KASHMIR','HIMACHAL PRADESH','PUNJAB','CHANDIGARH','UTTARAKHAND','HARYANA','NCT OF DELHI'],'West':['RAJASTHAN','GUJARAT','DAMAN & DIU','DADRA & NAGAR HAVELI','MAHARASHTRA','GOA'],'Central':['UTTAR PRADESH','CHHATTISGARH','MADHYA PRADESH'],'East':['BIHAR','WEST BENGAL','JHARKHAND','ODISHA'],'South':['ANDHRA PRADESH','KARNATAKA','LAKSHADWEEP','KERALA','TAMIL NADU','PUDUCHERRY'],'North_East':['SIKKIM','ARUNACHAL PRADESH','NAGALAND','MANIPUR','MIZORAM','TRIPURA','MEGHALAYA','ASSAM','ANDAMAN & NICOBAR ISLANDS']}"
   ]
  },
  {
   "cell_type": "code",
   "execution_count": 12,
   "id": "1cf11705",
   "metadata": {},
   "outputs": [],
   "source": [
    "Region_dict = dict()"
   ]
  },
  {
   "cell_type": "markdown",
   "id": "249c3645",
   "metadata": {},
   "source": [
    "### Group the states into region and sum uo their language counts"
   ]
  },
  {
   "cell_type": "code",
   "execution_count": 13,
   "id": "019c660a",
   "metadata": {},
   "outputs": [],
   "source": [
    "for items in Division_dict.items():\n",
    "    Div = items[0]\n",
    "    States = items[1]\n",
    "    ini_dict = []\n",
    "    for state in States:\n",
    "        ini_dict.append(state_dict[state])\n",
    "    result = {}\n",
    "    for d in ini_dict:\n",
    "        for k in d.keys():\n",
    "            result[k] = result.get(k, 0) + d[k]\n",
    "    \n",
    "    ThreeHighest = nlargest(3, result, key = result.get)\n",
    "    #print(\"ThreeHighest = \",ThreeHighest)\n",
    "    Region_dict[Div] = ThreeHighest\n",
    "    "
   ]
  },
  {
   "cell_type": "markdown",
   "id": "4fd70e10",
   "metadata": {},
   "source": [
    "### Sort the data"
   ]
  },
  {
   "cell_type": "code",
   "execution_count": 14,
   "id": "33e85aef",
   "metadata": {},
   "outputs": [
    {
     "data": {
      "text/plain": [
       "OrderedDict([('Central', ['HINDI ', 'ENGLISH ', 'URDU']),\n",
       "             ('East', ['HINDI ', 'BENGALI ', 'ODIA ']),\n",
       "             ('North', ['HINDI ', 'PUNJABI ', 'ENGLISH ']),\n",
       "             ('North_East', ['ASSAMESE', 'BENGALI ', 'HINDI ']),\n",
       "             ('South', ['TELUGU ', 'TAMIL ', 'KANNADA']),\n",
       "             ('West', ['HINDI ', 'MARATHI ', 'GUJARATI'])])"
      ]
     },
     "execution_count": 14,
     "metadata": {},
     "output_type": "execute_result"
    }
   ],
   "source": [
    "Region_dict = OrderedDict(sorted(Region_dict.items()))\n",
    "Region_dict"
   ]
  },
  {
   "cell_type": "code",
   "execution_count": 15,
   "id": "13b3a962",
   "metadata": {},
   "outputs": [],
   "source": [
    "a_file = open(\"region-india-b.csv\", \"w\",newline=\"\")\n",
    "writer = csv.DictWriter(a_file, fieldnames = ['region', 'language-1', 'language-2', 'language-3'])\n",
    "writer.writeheader()\n",
    "writer = csv.writer(a_file)\n",
    "for key, value in Region_dict.items():\n",
    "    writer.writerow([key] + value)\n",
    "\n",
    "a_file.close()"
   ]
  },
  {
   "cell_type": "code",
   "execution_count": 16,
   "id": "2031ed6d",
   "metadata": {},
   "outputs": [
    {
     "name": "stdout",
     "output_type": "stream",
     "text": [
      "Displaying data considering mother tongue + 2nd language + 3rd language\n",
      "\n",
      "    region language-1 language-2 language-3\n",
      "   Central     HINDI    ENGLISH        URDU\n",
      "      East     HINDI    BENGALI       ODIA \n",
      "     North     HINDI    PUNJABI    ENGLISH \n",
      "North_East   ASSAMESE   BENGALI      HINDI \n",
      "     South    TELUGU      TAMIL     KANNADA\n",
      "      West     HINDI    MARATHI    GUJARATI\n"
     ]
    }
   ],
   "source": [
    "data1 = pd.read_csv(\"region-india-b.csv\")\n",
    "data1 = data1.to_string(index=False)\n",
    "print(\"Displaying data considering mother tongue + 2nd language + 3rd language\")\n",
    "print(\"\")\n",
    "print(data1)"
   ]
  },
  {
   "cell_type": "markdown",
   "id": "4dfc458f",
   "metadata": {},
   "source": [
    "### Considering Only Mothertongue"
   ]
  },
  {
   "cell_type": "code",
   "execution_count": null,
   "id": "3b26100a",
   "metadata": {},
   "outputs": [],
   "source": []
  },
  {
   "cell_type": "code",
   "execution_count": 17,
   "id": "46dc5b21",
   "metadata": {},
   "outputs": [],
   "source": [
    "for f in xlsx_files:\n",
    "      \n",
    "    # read the csv file\n",
    "    df = pd.read_excel(f)\n",
    "      \n",
    "    file_name = f.split(\"\\\\\")[-1]\n",
    "    file_name = file_name.split(\".\")[0]\n",
    "    file_name = file_name+\".csv\"\n",
    "\n",
    "    df.to_csv (file_name,index = None,header=True)\n",
    "    \n",
    "    df = pd.DataFrame(pd.read_csv(file_name))\n",
    "    \n",
    "    language_data = df.loc[5:,:]\n",
    "    col = ['C-17 POPULATION BY BILINGUALISM AND TRILINGUALISM','Unnamed: 1','Unnamed: 3','Unnamed: 4']\n",
    "    language_data = language_data[col]\n",
    "    \n",
    "    language_data= language_data.set_axis(['State_Code','State_name','Mother_Tongue','Mother_Tongue_Person'], axis=1, inplace=False)\n",
    "    language_data = language_data.fillna(0)\n",
    "    language_data[\"Mother_Tongue_Person\"] = pd.to_numeric(language_data[\"Mother_Tongue_Person\"])\n",
    "\n",
    "    df1 = language_data.groupby(['State_Code','State_name','Mother_Tongue']).sum()\n",
    "    \n",
    "    language_count_dict = dict()\n",
    "    \n",
    "    \n",
    "    for i in range(len(language_data)):\n",
    "        row = language_data.iloc[i]\n",
    "        State_name = row[1]\n",
    "        Mother_Tongue_Person = row[3]\n",
    "        lang = None\n",
    "        count = 0\n",
    "        if Mother_Tongue_Person!=0:\n",
    "            lang = row[2]\n",
    "            count = Mother_Tongue_Person\n",
    "            val = language_count_dict.get(lang,0)\n",
    "            new_val = val+count\n",
    "            language_count_dict[lang] = new_val\n",
    "    \n",
    "    state_dict[State_name] = language_count_dict\n",
    "    \n",
    "    #print(\"State = \",State_name)\n",
    "    #print(\"language_count_dict = \",language_count_dict)\n",
    "    #print(\"-------------------------------------------------------------------------------------------------------\")\n",
    "    #print(\"\")\n",
    "    #print(\"\")\n"
   ]
  },
  {
   "cell_type": "code",
   "execution_count": 18,
   "id": "6fb9d179",
   "metadata": {},
   "outputs": [],
   "source": [
    "Region_dict_mothertongue = dict()"
   ]
  },
  {
   "cell_type": "code",
   "execution_count": 19,
   "id": "aa02af5c",
   "metadata": {},
   "outputs": [],
   "source": [
    "for items in Division_dict.items():\n",
    "    Div = items[0]\n",
    "    States = items[1]\n",
    "    ini_dict = []\n",
    "    for state in States:\n",
    "        ini_dict.append(state_dict[state])\n",
    "    result = {}\n",
    "    for d in ini_dict:\n",
    "        for k in d.keys():\n",
    "            result[k] = result.get(k, 0) + d[k]\n",
    "    \n",
    "    ThreeHighest = nlargest(3, result, key = result.get)\n",
    "    #print(\"ThreeHighest = \",ThreeHighest)\n",
    "    Region_dict_mothertongue[Div] = ThreeHighest"
   ]
  },
  {
   "cell_type": "code",
   "execution_count": 20,
   "id": "e320ea94",
   "metadata": {},
   "outputs": [
    {
     "data": {
      "text/plain": [
       "OrderedDict([('Central', ['HINDI ', 'URDU', 'BHILI/BHILODI ']),\n",
       "             ('East', ['HINDI ', 'BENGALI ', 'ODIA ']),\n",
       "             ('North', ['HINDI ', 'PUNJABI ', 'KASHMIRI ']),\n",
       "             ('North_East', ['ASSAMESE', 'BENGALI ', 'HINDI ']),\n",
       "             ('South', ['TELUGU ', 'TAMIL ', 'KANNADA']),\n",
       "             ('West', ['HINDI ', 'MARATHI ', 'GUJARATI'])])"
      ]
     },
     "execution_count": 20,
     "metadata": {},
     "output_type": "execute_result"
    }
   ],
   "source": [
    "Region_dict_mothertongue = OrderedDict(sorted(Region_dict_mothertongue.items()))\n",
    "Region_dict_mothertongue"
   ]
  },
  {
   "cell_type": "code",
   "execution_count": 21,
   "id": "d8982c7c",
   "metadata": {},
   "outputs": [],
   "source": [
    "a_file = open(\"region-india-a.csv\", \"w\",newline=\"\")\n",
    "writer = csv.DictWriter(a_file, fieldnames = ['region', 'language-1', 'language-2', 'language-3'])\n",
    "writer.writeheader()\n",
    "writer = csv.writer(a_file)\n",
    "for key, value in Region_dict.items():\n",
    "    writer.writerow([key] + value)\n",
    "\n",
    "a_file.close()"
   ]
  },
  {
   "cell_type": "code",
   "execution_count": 22,
   "id": "ca490334",
   "metadata": {},
   "outputs": [
    {
     "name": "stdout",
     "output_type": "stream",
     "text": [
      "\n"
     ]
    }
   ],
   "source": [
    "print(\"\")"
   ]
  },
  {
   "cell_type": "code",
   "execution_count": 23,
   "id": "359472c3",
   "metadata": {},
   "outputs": [
    {
     "name": "stdout",
     "output_type": "stream",
     "text": [
      "Displaying data considering only mother tongue\n",
      "\n",
      "    region language-1 language-2 language-3\n",
      "   Central     HINDI    ENGLISH        URDU\n",
      "      East     HINDI    BENGALI       ODIA \n",
      "     North     HINDI    PUNJABI    ENGLISH \n",
      "North_East   ASSAMESE   BENGALI      HINDI \n",
      "     South    TELUGU      TAMIL     KANNADA\n",
      "      West     HINDI    MARATHI    GUJARATI\n"
     ]
    }
   ],
   "source": [
    "data1 = pd.read_csv(\"region-india-a.csv\")\n",
    "data1 = data1.to_string(index=False)\n",
    "print(\"Displaying data considering only mother tongue\")\n",
    "print(\"\")\n",
    "print(data1)"
   ]
  }
 ],
 "metadata": {
  "kernelspec": {
   "display_name": "Python 3",
   "language": "python",
   "name": "python3"
  },
  "language_info": {
   "codemirror_mode": {
    "name": "ipython",
    "version": 3
   },
   "file_extension": ".py",
   "mimetype": "text/x-python",
   "name": "python",
   "nbconvert_exporter": "python",
   "pygments_lexer": "ipython3",
   "version": "3.8.8"
  }
 },
 "nbformat": 4,
 "nbformat_minor": 5
}
